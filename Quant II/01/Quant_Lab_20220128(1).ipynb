{
 "cells": [
  {
   "attachments": {
    "image-4.png": {
     "image/png": "[encoded data removed]"
    },
    "image-5.png": {
     "image/png": "[encoded data removed]"
    },
    "image-7.png": {
     "image/png": "[encoded data removed]"
    }
   },
   "cell_type": "markdown",
   "metadata": {},
   "source": [
    "## Quantitative Biology and Biophysics (AS.020.674/618)\tSpring 2022\n",
    "## Kaiser Lab \n",
    "## January 28, 2022\n",
    "\n",
    "# II.1 Dipoles\n",
    "\n",
    "II.1 Calculation of the dipole moment of adenine. Calculate the dipole moment of adenine (the x and y components, µx and µy, as well as the magnitude |µ|) and visualize it as a vector plotted on top of the adenine structure.\n",
    "\n",
    "The tab-separated values file Adenine_qxy.txt contains the partial charges (in elementary charges, qe) and positions (in Å) for all atoms in the adenine structure.\n",
    "\n",
    "The contributions of the individual atoms are additive, so as discussed in class, we calculate the x and y components of the dipole moment according to\n",
    "\n",
    "![image-4.png](attachment:image-4.png)\n",
    "![image-5.png](attachment:image-5.png)\n",
    "\n",
    "where qi is the partial charge of atom i and xi and yi are the coordinates of the atom. Adenine is planar, so we do not need the third (z) dimension here. \n",
    "\n",
    "![image-7.png](attachment:image-7.png)\n",
    "\n",
    "The position of each atom is designated in a coordinate system with its origin at the H atom at position 9 and with the H-N9 bond parallel to the y-axis.\n",
    "\n",
    "The charge values in the text file are net charge densities that already include the contributions of both the positive and negative charges at each atom position.\n",
    "\n",
    "The magnitude of the dipole moment has dimensions of charge*distance. In SI units, the charge is expressed in coulombs (C) and the length in meters (m). A special unit, the debye (D), has been defined for dipole moments.\n",
    "\n",
    "To convert the units used in the table (elementary charge, qe, and Å) to debye (D), multiply with 4.803:\n",
    "1 D = 4.803 qe Å\n",
    "\n",
    "Import Adenine_qxy.txt as a pandas dataframe to calculate the dipole moment. The headers are: Atom, Element, qi, xi, yi"
   ]
  },
  {
   "cell_type": "code",
   "execution_count": 1,
   "metadata": {},
   "outputs": [],
   "source": [
    "# These are the libraries you will need for this lab\n",
    "\n",
    "import pandas as pd\n",
    "import matplotlib.pyplot as plt\n",
    "import numpy as np\n",
    "import re # This is very useful for matching strings using re.search(string,var)\n"
   ]
  },
  {
   "cell_type": "markdown",
   "metadata": {},
   "source": [
    "\n",
    "# Student Input Cell:\n",
    "  "
   ]
  },
  {
   "cell_type": "code",
   "execution_count": 2,
   "metadata": {
    "scrolled": true
   },
   "outputs": [
    {
     "data": {
      "text/html": [
       "<div>\n",
       "<style scoped>\n",
       "    .dataframe tbody tr th:only-of-type {\n",
       "        vertical-align: middle;\n",
       "    }\n",
       "\n",
       "    .dataframe tbody tr th {\n",
       "        vertical-align: top;\n",
       "    }\n",
       "\n",
       "    .dataframe thead th {\n",
       "        text-align: right;\n",
       "    }\n",
       "</style>\n",
       "<table border=\"1\" class=\"dataframe\">\n",
       "  <thead>\n",
       "    <tr style=\"text-align: right;\">\n",
       "      <th></th>\n",
       "      <th>Atom</th>\n",
       "      <th>Element</th>\n",
       "      <th>qi</th>\n",
       "      <th>xi</th>\n",
       "      <th>yi</th>\n",
       "      <th>ux</th>\n",
       "      <th>uy</th>\n",
       "    </tr>\n",
       "  </thead>\n",
       "  <tbody>\n",
       "    <tr>\n",
       "      <th>0</th>\n",
       "      <td>N1</td>\n",
       "      <td>N</td>\n",
       "      <td>-0.52</td>\n",
       "      <td>-2.791</td>\n",
       "      <td>3.937</td>\n",
       "      <td>6.970690</td>\n",
       "      <td>-9.832894</td>\n",
       "    </tr>\n",
       "    <tr>\n",
       "      <th>1</th>\n",
       "      <td>C2</td>\n",
       "      <td>C</td>\n",
       "      <td>0.31</td>\n",
       "      <td>-3.201</td>\n",
       "      <td>2.664</td>\n",
       "      <td>-4.766065</td>\n",
       "      <td>3.966510</td>\n",
       "    </tr>\n",
       "    <tr>\n",
       "      <th>2</th>\n",
       "      <td>N3</td>\n",
       "      <td>N</td>\n",
       "      <td>-0.51</td>\n",
       "      <td>-2.391</td>\n",
       "      <td>1.608</td>\n",
       "      <td>5.856826</td>\n",
       "      <td>-3.938844</td>\n",
       "    </tr>\n",
       "    <tr>\n",
       "      <th>3</th>\n",
       "      <td>C4</td>\n",
       "      <td>C</td>\n",
       "      <td>0.33</td>\n",
       "      <td>-1.079</td>\n",
       "      <td>1.828</td>\n",
       "      <td>-1.710204</td>\n",
       "      <td>2.897362</td>\n",
       "    </tr>\n",
       "    <tr>\n",
       "      <th>4</th>\n",
       "      <td>C5</td>\n",
       "      <td>C</td>\n",
       "      <td>0.12</td>\n",
       "      <td>-0.604</td>\n",
       "      <td>3.113</td>\n",
       "      <td>-0.348121</td>\n",
       "      <td>1.794209</td>\n",
       "    </tr>\n",
       "    <tr>\n",
       "      <th>5</th>\n",
       "      <td>C6</td>\n",
       "      <td>C</td>\n",
       "      <td>0.34</td>\n",
       "      <td>-1.500</td>\n",
       "      <td>4.163</td>\n",
       "      <td>-2.449530</td>\n",
       "      <td>6.798262</td>\n",
       "    </tr>\n",
       "    <tr>\n",
       "      <th>6</th>\n",
       "      <td>N7</td>\n",
       "      <td>N</td>\n",
       "      <td>-0.56</td>\n",
       "      <td>0.763</td>\n",
       "      <td>3.128</td>\n",
       "      <td>-2.052226</td>\n",
       "      <td>-8.413319</td>\n",
       "    </tr>\n",
       "    <tr>\n",
       "      <th>7</th>\n",
       "      <td>C8</td>\n",
       "      <td>C</td>\n",
       "      <td>0.32</td>\n",
       "      <td>1.055</td>\n",
       "      <td>1.810</td>\n",
       "      <td>1.621493</td>\n",
       "      <td>2.781898</td>\n",
       "    </tr>\n",
       "    <tr>\n",
       "      <th>8</th>\n",
       "      <td>N9</td>\n",
       "      <td>N</td>\n",
       "      <td>-0.19</td>\n",
       "      <td>0.000</td>\n",
       "      <td>1.000</td>\n",
       "      <td>-0.000000</td>\n",
       "      <td>-0.912570</td>\n",
       "    </tr>\n",
       "    <tr>\n",
       "      <th>9</th>\n",
       "      <td>H2</td>\n",
       "      <td>H</td>\n",
       "      <td>0.07</td>\n",
       "      <td>-4.284</td>\n",
       "      <td>2.473</td>\n",
       "      <td>-1.440324</td>\n",
       "      <td>0.831447</td>\n",
       "    </tr>\n",
       "    <tr>\n",
       "      <th>10</th>\n",
       "      <td>N(H2)</td>\n",
       "      <td>N</td>\n",
       "      <td>-0.44</td>\n",
       "      <td>-1.041</td>\n",
       "      <td>5.422</td>\n",
       "      <td>2.199966</td>\n",
       "      <td>-11.458421</td>\n",
       "    </tr>\n",
       "    <tr>\n",
       "      <th>11</th>\n",
       "      <td>(N)H</td>\n",
       "      <td>H</td>\n",
       "      <td>0.23</td>\n",
       "      <td>-1.773</td>\n",
       "      <td>6.104</td>\n",
       "      <td>-1.958615</td>\n",
       "      <td>6.743028</td>\n",
       "    </tr>\n",
       "    <tr>\n",
       "      <th>12</th>\n",
       "      <td>(N)H'</td>\n",
       "      <td>H</td>\n",
       "      <td>0.23</td>\n",
       "      <td>-0.067</td>\n",
       "      <td>5.647</td>\n",
       "      <td>-0.074014</td>\n",
       "      <td>6.238184</td>\n",
       "    </tr>\n",
       "    <tr>\n",
       "      <th>13</th>\n",
       "      <td>H8</td>\n",
       "      <td>H</td>\n",
       "      <td>0.07</td>\n",
       "      <td>2.089</td>\n",
       "      <td>1.434</td>\n",
       "      <td>0.702343</td>\n",
       "      <td>0.482125</td>\n",
       "    </tr>\n",
       "    <tr>\n",
       "      <th>14</th>\n",
       "      <td>H9</td>\n",
       "      <td>H</td>\n",
       "      <td>0.20</td>\n",
       "      <td>0.000</td>\n",
       "      <td>0.000</td>\n",
       "      <td>0.000000</td>\n",
       "      <td>0.000000</td>\n",
       "    </tr>\n",
       "  </tbody>\n",
       "</table>\n",
       "</div>"
      ],
      "text/plain": [
       "     Atom Element    qi     xi     yi        ux         uy\n",
       "0      N1       N -0.52 -2.791  3.937  6.970690  -9.832894\n",
       "1      C2       C  0.31 -3.201  2.664 -4.766065   3.966510\n",
       "2      N3       N -0.51 -2.391  1.608  5.856826  -3.938844\n",
       "3      C4       C  0.33 -1.079  1.828 -1.710204   2.897362\n",
       "4      C5       C  0.12 -0.604  3.113 -0.348121   1.794209\n",
       "5      C6       C  0.34 -1.500  4.163 -2.449530   6.798262\n",
       "6      N7       N -0.56  0.763  3.128 -2.052226  -8.413319\n",
       "7      C8       C  0.32  1.055  1.810  1.621493   2.781898\n",
       "8      N9       N -0.19  0.000  1.000 -0.000000  -0.912570\n",
       "9      H2       H  0.07 -4.284  2.473 -1.440324   0.831447\n",
       "10  N(H2)       N -0.44 -1.041  5.422  2.199966 -11.458421\n",
       "11   (N)H       H  0.23 -1.773  6.104 -1.958615   6.743028\n",
       "12  (N)H'       H  0.23 -0.067  5.647 -0.074014   6.238184\n",
       "13     H8       H  0.07  2.089  1.434  0.702343   0.482125\n",
       "14     H9       H  0.20  0.000  0.000  0.000000   0.000000"
      ]
     },
     "execution_count": 2,
     "metadata": {},
     "output_type": "execute_result"
    }
   ],
   "source": [
    "# Import Data, as a pandas dataframe\n",
    "\n",
    "# The headers are: Atom, Element, qi, xi, yi\n",
    "df = pd.read_csv('Adenine_qxy(1).txt', sep='\\t')\n",
    "df['ux'] = df['qi']*df['xi']*4.803\n",
    "df['uy'] = df['qi']*df['yi']*4.803\n",
    "df"
   ]
  },
  {
   "cell_type": "markdown",
   "metadata": {},
   "source": [
    "# Student Input Cell:\n"
   ]
  },
  {
   "cell_type": "code",
   "execution_count": 3,
   "metadata": {},
   "outputs": [
    {
     "data": {
      "text/plain": [
       "(2.5522181400000004, -2.0230235999999993, 3.256753279003802)"
      ]
     },
     "execution_count": 3,
     "metadata": {},
     "output_type": "execute_result"
    }
   ],
   "source": [
    "# Calculate the dipole moment & magnitude\n",
    "ux_sum = df['ux'].sum()\n",
    "uy_sum = df['uy'].sum()\n",
    "mag = np.sqrt(ux_sum**2 + uy_sum**2)\n",
    "(ux_sum, uy_sum, mag)"
   ]
  },
  {
   "cell_type": "markdown",
   "metadata": {},
   "source": [
    "# Student Input Cell:"
   ]
  },
  {
   "cell_type": "code",
   "execution_count": 4,
   "metadata": {},
   "outputs": [
    {
     "data": {
      "image/png": "[encoded data removed]",
      "text/plain": [
       "<Figure size 576x576 with 1 Axes>"
      ]
     },
     "metadata": {
      "needs_background": "light"
     },
     "output_type": "display_data"
    }
   ],
   "source": [
    "# Plot the atomic coordinates for adenine. Make sure the aspect ratio for both axes are equal.\n",
    "#\n",
    "# Hydrogen: white\n",
    "# Carbon: black\n",
    "# Nigrogen: blue\n",
    "fig, ax = plt.subplots(figsize=(8,8))\n",
    "\n",
    "for idx, row in df.iterrows():\n",
    "\n",
    "    elem = row['Element']\n",
    "    if elem == 'N':\n",
    "        color = 'b'\n",
    "    elif elem == 'C':\n",
    "        color = 'k'\n",
    "    else:\n",
    "        color = 'w'\n",
    "    \n",
    "    plt.scatter(row['xi'], row['yi'], color=color, edgecolors='k', s=200)\n",
    "\n",
    "#plt.scatter(df['xi'], df['yi'], color='k')    \n",
    "    \n",
    "# Plot dipole vector\n",
    "#\n",
    "# Use the matplotlib \"arrow\" tool. I recommend making the head_width = 0.1\n",
    "#\n",
    "# NOTE: The dipole vector you calculated points toward the positive dipole, HOWEVER common\n",
    "# convention is to draw the arrow pointing to the NEGATIVE dipole, so make sure you adjust\n",
    "# for this.\n",
    "\n",
    "plt.arrow(-1, 2.5, -ux_sum, -uy_sum, head_width=0.1)\n",
    "\n",
    "plt.title('Adenine Dipole Moment')\n",
    "plt.savefig('adenine_dipole.jpg')\n",
    "plt.show()"
   ]
  },
  {
   "cell_type": "markdown",
   "metadata": {},
   "source": [
    "# II.3 Dipole-Dipole vs. Ion-Ion interactions\n",
    "\n",
    "Plot the energies for a dipole-dipole and for an ion-ion interaction as a function of distance from 3 to 10 Å such that their magnitudes are 1 at r = 3 Å. How does the distance dependence compare for the two types of interactions?\n"
   ]
  },
  {
   "cell_type": "markdown",
   "metadata": {},
   "source": [
    "# Student Input Cell:\n"
   ]
  },
  {
   "cell_type": "code",
   "execution_count": 5,
   "metadata": {},
   "outputs": [
    {
     "data": {
      "image/png": "[encoded data removed]",
      "text/plain": [
       "<Figure size 576x576 with 1 Axes>"
      ]
     },
     "metadata": {
      "needs_background": "light"
     },
     "output_type": "display_data"
    }
   ],
   "source": [
    "# Plot energies of ion-ion and dipole-dipole interactions vs. distance\n",
    "\"\"\"\n",
    "I aggregated the terms that would be held constant in both \n",
    "equations (charge, permittivity, etc) into one constant, \n",
    "and then solved for it by plugging in U(3)=1. For dipole-dipole \n",
    "interactions, this gave me U(r)=1/(r^3) while for ion-ion \n",
    "interactions, U(r)=1/r.\n",
    "\"\"\"\n",
    "\n",
    "\n",
    "x = list(range(3,11))\n",
    "dipole = [27/r**3 for r in x]\n",
    "ion = [3/r for r in x]\n",
    "\n",
    "fig, ax = plt.subplots(figsize=(8,8))\n",
    "plt.plot(x, dipole, x, ion)\n",
    "\n",
    "plt.title('Potential energy of interactions between particles')\n",
    "plt.xlabel('Distance apart (Angstroms)')\n",
    "plt.ylabel('Potential energy (kJ/mol)')\n",
    "plt.legend(['Dipole-dipole', 'Ion-ion'])\n",
    "plt.savefig('interaction_nrgs.jpg')\n",
    "plt.show()"
   ]
  },
  {
   "cell_type": "code",
   "execution_count": null,
   "metadata": {},
   "outputs": [],
   "source": []
  }
 ],
 "metadata": {
  "kernelspec": {
   "display_name": "Python 3",
   "language": "python",
   "name": "python3"
  },
  "language_info": {
   "codemirror_mode": {
    "name": "ipython",
    "version": 3
   },
   "file_extension": ".py",
   "mimetype": "text/x-python",
   "name": "python",
   "nbconvert_exporter": "python",
   "pygments_lexer": "ipython3",
   "version": "3.7.1"
  }
 },
 "nbformat": 4,
 "nbformat_minor": 4
}
