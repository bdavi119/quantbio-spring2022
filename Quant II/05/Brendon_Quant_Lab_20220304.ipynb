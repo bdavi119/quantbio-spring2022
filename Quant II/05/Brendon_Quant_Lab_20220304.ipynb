{
 "cells": [
  {
   "cell_type": "markdown",
   "metadata": {},
   "source": [
    "# Quantitative Biology and Biophysics (AS.020.674/618)\tSpring 2022\n",
    "# Gordus Lab \n",
    "# March 04, 2022\n",
    "\n",
    "#  Recursive Methods\n",
    "\n",
    "Today we’re going to write a bootstrap algorithm to test whether two distributions are different, or not. We will also use a curve fitting algorithm that uses steepest descent to find the best-fit parameters for a protein binding curve.\n",
    "\n",
    "## Libraries you will need"
   ]
  },
  {
   "cell_type": "code",
   "execution_count": 1,
   "metadata": {},
   "outputs": [
    {
     "data": {
      "text/plain": [
       "<bound method Random.seed of <random.Random object at 0x7ff1e30baa18>>"
      ]
     },
     "execution_count": 1,
     "metadata": {},
     "output_type": "execute_result"
    }
   ],
   "source": [
    "import numpy as np\n",
    "import random\n",
    "import matplotlib.pyplot as plt\n",
    "from scipy.optimize import curve_fit\n",
    "\n",
    "# You need to initialize the random number generator\n",
    "random.seed\n"
   ]
  },
  {
   "cell_type": "markdown",
   "metadata": {},
   "source": [
    "## Load numpy data\n",
    "\n",
    "You will need to load data from a 'npz' file. Please provide the path for where you saved the file, and load the data using the code below"
   ]
  },
  {
   "cell_type": "code",
   "execution_count": 2,
   "metadata": {},
   "outputs": [],
   "source": [
    "file = 'lab_5_data.npz'\n",
    "\n",
    "npzfile = np.load(file)\n",
    "\n",
    "dwell_times_1 = npzfile['taus1']\n",
    "dwell_times_2 = npzfile['taus2']\n",
    "f_bound = npzfile['f']\n"
   ]
  },
  {
   "cell_type": "markdown",
   "metadata": {},
   "source": [
    "# Bootstrapping\n",
    "\n",
    "You have been provide the dwell times from two single molecule experiments ('taus1' and 'taus2').\n",
    "\n",
    "**Do the following:**\n",
    "\n",
    "1. For each dwell time array, make an integer array from 0 -> size(dwell_times_array) and call it 'P1' or 'P2'. Divide each array by N for each dwell_times array. For example, if a dwell_times array has 10 entries: `P = np.arange(0,np.size(dwell_times)) / np.size(dwell_times)`.\n",
    "\n",
    "2. Sort each dwell_times array from highest to lowest: `dwell_times[::-1].sort()`\n",
    "\n",
    "3. Now plot each P vs. dwell_times. This is the equivalent of plotting the cumulative distribution for P(t>T).\n"
   ]
  },
  {
   "cell_type": "markdown",
   "metadata": {},
   "source": [
    "## Student Input Cell"
   ]
  },
  {
   "cell_type": "code",
   "execution_count": 74,
   "metadata": {},
   "outputs": [
    {
     "data": {
      "image/png": "[encoded data removed]",
      "text/plain": [
       "<Figure size 576x576 with 1 Axes>"
      ]
     },
     "metadata": {
      "needs_background": "light"
     },
     "output_type": "display_data"
    }
   ],
   "source": [
    "P1 = np.arange(0,np.size(dwell_times_1)) / np.size(dwell_times_1)\n",
    "P2 = np.arange(0,np.size(dwell_times_2)) / np.size(dwell_times_2)\n",
    "\n",
    "dwell_times_1[::-1].sort()\n",
    "dwell_times_2[::-1].sort()\n",
    "\n",
    "fig, ax = plt.subplots(figsize=(8,8))\n",
    "ax.scatter(dwell_times_1, P1, s=2)\n",
    "ax.scatter(dwell_times_2, P2, s=2)\n",
    "\n",
    "ax.set_xlabel('Dwell time')\n",
    "ax.set_ylabel('P(t>T)')\n",
    "ax.set_title('Dwell Times of Samples')\n",
    "plt.show()"
   ]
  },
  {
   "cell_type": "markdown",
   "metadata": {},
   "source": [
    "These distributions (should) appear to be exponential, but with different decay constants. But are they really different? Let's test!\n",
    "\n",
    "If we use a maximum likelihood approach, the tau (1 / rate constant) for each distribution should be:\n",
    "\n",
    "<img src=\"http://www.gordus.org/public_images/tau.png\" style=\"width: 600px;\"/>\n",
    "\n",
    "**Do the following:**\n",
    "\n",
    "1. Calculate the tau for each distribution.\n",
    "2. Calculate the ABSOLUTE difference between these taus. This will be the parameter we will test."
   ]
  },
  {
   "cell_type": "markdown",
   "metadata": {},
   "source": [
    "## Student Input Cell"
   ]
  },
  {
   "cell_type": "code",
   "execution_count": 37,
   "metadata": {},
   "outputs": [
    {
     "data": {
      "text/plain": [
       "6.23070724297162"
      ]
     },
     "execution_count": 37,
     "metadata": {},
     "output_type": "execute_result"
    }
   ],
   "source": [
    "tau_1 = dwell_times_1.mean()\n",
    "tau_2 = dwell_times_2.mean()\n",
    "\n",
    "tau_diff = abs(tau_1 - tau_2)\n",
    "tau_diff"
   ]
  },
  {
   "cell_type": "markdown",
   "metadata": {},
   "source": [
    "The null hypothesis is that both of these taus came from the same distribution, therefore the probability of observing the difference from above is very likely.\n",
    "\n",
    "**To test this, do the following:**\n",
    "\n",
    "1. Set a counter to 0. i.e. `counter = 0`.\n",
    "2. Use `np.append()` to combine both dwell time arrays into 1 array.\n",
    "3. Create an array of values chosen at random (with replacement) from the combined array of size (array 1).\n",
    "4. Create a second array of values chosen at random (with replacement) from the combined array of size (array 2).\n",
    "5. Calculate the tau values for each of these new dwell time distributions.\n",
    "6. Calculate the ABSOLUTE difference between these taus.\n",
    "7. If this difference is GREATER than the observed differene of the original data, increase the counter by 1.\n",
    "8. Repeat steps 3 - 7 10,000 times.\n",
    "\n",
    "**Useful tool**\n",
    "\n",
    "If you want too create an array of size N that is randomly drawn (with replacement) from array X:\n",
    "\n",
    "`random_elements_from_X = random.choices(X, k=N)`"
   ]
  },
  {
   "cell_type": "markdown",
   "metadata": {},
   "source": [
    "## Student Input Cell"
   ]
  },
  {
   "cell_type": "code",
   "execution_count": 47,
   "metadata": {},
   "outputs": [
    {
     "data": {
      "text/plain": [
       "19"
      ]
     },
     "execution_count": 47,
     "metadata": {},
     "output_type": "execute_result"
    }
   ],
   "source": [
    "ITERS = 10000\n",
    "counter = 0\n",
    "combined = np.append(dwell_times_1, dwell_times_2)\n",
    "\n",
    "for i in range(ITERS):\n",
    "    temp1 = np.array(random.choices(combined, k=len(dwell_times_1)))\n",
    "    temp2 = np.array(random.choices(combined, k=len(dwell_times_2)))\n",
    "    \n",
    "    tau_temp1 = temp1.mean()\n",
    "    tau_temp2 = temp2.mean()\n",
    "    \n",
    "    tau_temp_diff = abs(tau_temp1 - tau_temp2)\n",
    "    \n",
    "    if tau_temp_diff > tau_diff:\n",
    "        counter += 1\n",
    "\n",
    "counter"
   ]
  },
  {
   "cell_type": "markdown",
   "metadata": {},
   "source": [
    "**What is the probability the null hypothesis is correct?**\n",
    "\n",
    "## Student Input Cell"
   ]
  },
  {
   "cell_type": "code",
   "execution_count": 48,
   "metadata": {},
   "outputs": [
    {
     "data": {
      "text/plain": [
       "0.0019"
      ]
     },
     "execution_count": 48,
     "metadata": {},
     "output_type": "execute_result"
    }
   ],
   "source": [
    "prob_null = counter / ITERS\n",
    "prob_null"
   ]
  },
  {
   "cell_type": "markdown",
   "metadata": {},
   "source": [
    "# Curve Fitting\n",
    "\n",
    "In class, we discussed the Hill Equation:\n",
    "\n",
    "<img src=\"http://www.gordus.org/public_images/hill.png\" style=\"width: 300px;\"/>\n",
    "\n",
    "\n",
    "The `f_bound` data you loaded above is the fraction of protein bound by ligand at the following ligand nanomolar concentrations:\n",
    "\n",
    "`L = 10,20,50,100,150,200,300,400]`\n",
    "\n",
    "**Plot the f_bound values vs. L.**\n",
    "\n",
    "## Student Input Cell"
   ]
  },
  {
   "cell_type": "code",
   "execution_count": 71,
   "metadata": {},
   "outputs": [
    {
     "data": {
      "image/png": "[encoded data removed]",
      "text/plain": [
       "<Figure size 432x360 with 1 Axes>"
      ]
     },
     "metadata": {
      "needs_background": "light"
     },
     "output_type": "display_data"
    }
   ],
   "source": [
    "L = [10,20,50,100,150,200,300,400]\n",
    "\n",
    "fig, ax = plt.subplots(figsize=(6,5))\n",
    "ax.scatter(L, f_bound)\n",
    "ax.set_xlabel('Ligand concentration in nM')\n",
    "ax.set_ylabel('Fraction of ligand bound')\n",
    "ax.set_title('Bound Ligand Data')\n",
    "plt.show()"
   ]
  },
  {
   "cell_type": "markdown",
   "metadata": {},
   "source": [
    "To fit a Hill equation curve to this data, we should first define a function for the Hill equation.\n",
    "\n",
    "**Complete the function below.**\n",
    "\n",
    "## Student Input Cell"
   ]
  },
  {
   "cell_type": "code",
   "execution_count": 50,
   "metadata": {},
   "outputs": [],
   "source": [
    "def hill_eq(x,Ka,n):\n",
    "\n",
    "    f = (x**n) / ((Ka**n) + (x**n))\n",
    "    \n",
    "    return f"
   ]
  },
  {
   "cell_type": "markdown",
   "metadata": {},
   "source": [
    "Now that you have a function, and data to fit to it, we can use the `curve_fit` function you imported earlier. The default algorithm for this function is gradient descent. The standard syntax is:\n",
    "\n",
    "`params, pcov = curve_fit(function,x,y,p0=[])`\n",
    "\n",
    "Input:\n",
    "\n",
    "1. function: This is the function you are trying to fit the data to. The first argument of this function should be the data, followed by the parameters you are trying to fit, i.e. ` function(x,p0, p1, ...)`. You'll notice we used the correct format when we defined the Hill equation function above.\n",
    "2. x: These are the independent variables.\n",
    "3. y: These are the observed dependent variables.\n",
    "4. p0: These are your initial guesses for what the parameters might be. The order in which you enter them into this array should match the order in which they are called in the function.\n",
    "\n",
    "Output:\n",
    "\n",
    "1. params: These are the best fit parameters, in the order in which they are called in the function.\n",
    "2. pcov: The estimated covariance of params. You can use this to determine the estimated error of the parameter estimations by using the following code: `perr = np.sqrt(np.diag(pcov))`.\n",
    "\n",
    "**Do the following.**\n",
    "\n",
    "1. Use the curve fitting tool to estimate Ka & n for the imported data. Use the plot to make initial guesses for what Ka & n might be.\n",
    "2. Plot a continuous version of your predicted Hill equation from L = 0-> 400.\n",
    "3. Plot the original data on this plot. Does the prediction look correct?\n",
    "\n",
    "## Student Input Cell"
   ]
  },
  {
   "cell_type": "code",
   "execution_count": 75,
   "metadata": {},
   "outputs": [
    {
     "data": {
      "image/png": "[encoded data removed]",
      "text/plain": [
       "<Figure size 720x576 with 1 Axes>"
      ]
     },
     "metadata": {
      "needs_background": "light"
     },
     "output_type": "display_data"
    }
   ],
   "source": [
    "# Guessing that Ka=100nM and n=3\n",
    "params, pcov = curve_fit(hill_eq, L, f_bound, p0=[100, 3])\n",
    "\n",
    "x = np.arange(0, 400, 1)\n",
    "y = hill_eq(x, params[0], params[1])\n",
    "\n",
    "fig, ax = plt.subplots(figsize=(10,8))\n",
    "ax.plot(x, y, color='orange')\n",
    "ax.scatter(L, f_bound)\n",
    "\n",
    "ax.set_xlabel('Ligand concentration in nM')\n",
    "ax.set_ylabel('Fraction of ligand bound')\n",
    "ax.set_title('Curve Fit with Bound Ligand Data')\n",
    "plt.show()"
   ]
  },
  {
   "cell_type": "code",
   "execution_count": null,
   "metadata": {},
   "outputs": [],
   "source": []
  }
 ],
 "metadata": {
  "kernelspec": {
   "display_name": "Python 3",
   "language": "python",
   "name": "python3"
  },
  "language_info": {
   "codemirror_mode": {
    "name": "ipython",
    "version": 3
   },
   "file_extension": ".py",
   "mimetype": "text/x-python",
   "name": "python",
   "nbconvert_exporter": "python",
   "pygments_lexer": "ipython3",
   "version": "3.7.1"
  }
 },
 "nbformat": 4,
 "nbformat_minor": 4
}
