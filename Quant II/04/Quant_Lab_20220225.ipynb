{
 "cells": [
  {
   "cell_type": "markdown",
   "metadata": {},
   "source": [
    "# Quantitative Biology and Biophysics (AS.020.674/618)\tSpring 2022\n",
    "# Gordus Lab \n",
    "# February 25, 2022\n",
    "\n",
    "#  Distributions and Likelihoods\n",
    "\n",
    "Today we’re going to work with single and double Gaussian data from Viets, et. al (2019). You have been provided with data on blackboard.\n",
    "\n",
    "One of the libraries you will be using below (tqdm) is very useful for letting you know the progress of a slow loop. I recommend you try it out in the code below.\n",
    "\n",
    "To pip install:\n",
    "\n",
    "`pip install tqdm`\n",
    "\n",
    "To conda install:\n",
    "\n",
    "`conda install -c conda-forge tqdm`"
   ]
  },
  {
   "cell_type": "markdown",
   "metadata": {},
   "source": [
    "## Libraries you will need"
   ]
  },
  {
   "cell_type": "code",
   "execution_count": 1,
   "metadata": {},
   "outputs": [],
   "source": [
    "import pandas as pd\n",
    "import matplotlib.pyplot as plt\n",
    "import seaborn as sns\n",
    "import numpy as np\n",
    "from scipy.optimize import minimize\n",
    "from scipy.stats import norm\n",
    "from tqdm.notebook import tqdm"
   ]
  },
  {
   "cell_type": "markdown",
   "metadata": {},
   "source": [
    "## Plotting Data\n",
    "\n",
    "We want to explore how these data look. To do this we will first plot this data in a variety of ways using seaborn.\n",
    "\n",
    "1.\tProduce a swarm plot of the data. (Since there are 100 data points, I recommend setting the marker size to 2, i.e. `size = 2`\n",
    "2.\tProduce a violin plot of the data.\n",
    "3.\tProduce a box plot of the data.\n",
    "4.\tProduce a bar plot of the data.\n",
    "\n",
    "Since the data are in an excel file, the easiest thing to do is import the data using pandas."
   ]
  },
  {
   "cell_type": "markdown",
   "metadata": {},
   "source": [
    "## Student Input Cell"
   ]
  },
  {
   "cell_type": "code",
   "execution_count": 2,
   "metadata": {},
   "outputs": [
    {
     "data": {
      "text/html": [
       "<div>\n",
       "<style scoped>\n",
       "    .dataframe tbody tr th:only-of-type {\n",
       "        vertical-align: middle;\n",
       "    }\n",
       "\n",
       "    .dataframe tbody tr th {\n",
       "        vertical-align: top;\n",
       "    }\n",
       "\n",
       "    .dataframe thead th {\n",
       "        text-align: right;\n",
       "    }\n",
       "</style>\n",
       "<table border=\"1\" class=\"dataframe\">\n",
       "  <thead>\n",
       "    <tr style=\"text-align: right;\">\n",
       "      <th></th>\n",
       "      <th>pair distance</th>\n",
       "      <th>Sample</th>\n",
       "    </tr>\n",
       "  </thead>\n",
       "  <tbody>\n",
       "    <tr>\n",
       "      <th>0</th>\n",
       "      <td>1.300000</td>\n",
       "      <td>control</td>\n",
       "    </tr>\n",
       "    <tr>\n",
       "      <th>1</th>\n",
       "      <td>0.447214</td>\n",
       "      <td>control</td>\n",
       "    </tr>\n",
       "    <tr>\n",
       "      <th>2</th>\n",
       "      <td>1.100000</td>\n",
       "      <td>control</td>\n",
       "    </tr>\n",
       "    <tr>\n",
       "      <th>3</th>\n",
       "      <td>1.800000</td>\n",
       "      <td>control</td>\n",
       "    </tr>\n",
       "    <tr>\n",
       "      <th>4</th>\n",
       "      <td>1.811077</td>\n",
       "      <td>control</td>\n",
       "    </tr>\n",
       "    <tr>\n",
       "      <th>...</th>\n",
       "      <td>...</td>\n",
       "      <td>...</td>\n",
       "    </tr>\n",
       "    <tr>\n",
       "      <th>595</th>\n",
       "      <td>0.700000</td>\n",
       "      <td>E</td>\n",
       "    </tr>\n",
       "    <tr>\n",
       "      <th>596</th>\n",
       "      <td>0.800000</td>\n",
       "      <td>E</td>\n",
       "    </tr>\n",
       "    <tr>\n",
       "      <th>597</th>\n",
       "      <td>2.039608</td>\n",
       "      <td>E</td>\n",
       "    </tr>\n",
       "    <tr>\n",
       "      <th>598</th>\n",
       "      <td>1.627882</td>\n",
       "      <td>E</td>\n",
       "    </tr>\n",
       "    <tr>\n",
       "      <th>599</th>\n",
       "      <td>1.100000</td>\n",
       "      <td>E</td>\n",
       "    </tr>\n",
       "  </tbody>\n",
       "</table>\n",
       "<p>600 rows × 2 columns</p>\n",
       "</div>"
      ],
      "text/plain": [
       "     pair distance   Sample\n",
       "0         1.300000  control\n",
       "1         0.447214  control\n",
       "2         1.100000  control\n",
       "3         1.800000  control\n",
       "4         1.811077  control\n",
       "..             ...      ...\n",
       "595       0.700000        E\n",
       "596       0.800000        E\n",
       "597       2.039608        E\n",
       "598       1.627882        E\n",
       "599       1.100000        E\n",
       "\n",
       "[600 rows x 2 columns]"
      ]
     },
     "execution_count": 2,
     "metadata": {},
     "output_type": "execute_result"
    }
   ],
   "source": [
    "# Import data as dataframe\n",
    "# Data values are the first column of the dataframe, and Data IDs are the second column.\n",
    "\n",
    "\n",
    "data_df = pd.read_csv('bob_pairing_data_2022.csv')\n",
    "data_df"
   ]
  },
  {
   "cell_type": "markdown",
   "metadata": {},
   "source": [
    "## Student Input Cell"
   ]
  },
  {
   "cell_type": "code",
   "execution_count": 3,
   "metadata": {},
   "outputs": [
    {
     "data": {
      "image/png": "[encoded data removed]",
      "text/plain": [
       "<Figure size 864x864 with 4 Axes>"
      ]
     },
     "metadata": {
      "needs_background": "light"
     },
     "output_type": "display_data"
    }
   ],
   "source": [
    "# Plot the 4 seaborn plots\n",
    "\n",
    "x='Sample'\n",
    "y='pair distance'\n",
    "\n",
    "fig, ax = plt.subplots(2,2, figsize=(12,12))\n",
    "\n",
    "sns.swarmplot(x=x, y=y, data=data_df, ax=ax[0,0], size=2)\n",
    "ax[0, 0].set_title('Swarm Plot')\n",
    "\n",
    "sns.violinplot(x=x, y=y, data=data_df, ax=ax[0,1])\n",
    "ax[0, 1].set_title('Violin Plot')\n",
    "\n",
    "sns.boxplot(x=x, y=y, data=data_df, ax=ax[1,0])\n",
    "ax[1, 0].set_title('Box Plot')\n",
    "\n",
    "sns.barplot(x=x, y=y, data=data_df, ax=ax[1,1])\n",
    "ax[1, 1].set_title('Bar Plot')\n",
    "\n",
    "plt.tight_layout()\n",
    "plt.show()"
   ]
  },
  {
   "cell_type": "markdown",
   "metadata": {},
   "source": [
    "## How to do math with arrays\n",
    "\n",
    "I normally like to work in the realm of arrays, rather than DataFrames. This is because I like to leverage the power and speed of executing linear algebra functions instead of FOR loops. These functions are pre-compiled, so they are much faster. Iteratively going through arrays or DataFrames is computationally exhaustive, and take a long time to run when using large arrays of data.\n",
    "\n",
    "So, first I make a numpy array where the **rows are observations, and columns are samples.**"
   ]
  },
  {
   "cell_type": "code",
   "execution_count": 4,
   "metadata": {},
   "outputs": [],
   "source": [
    "#convert dataframe to numpy array\n",
    "data_n = data_df.to_numpy()\n",
    "data_n = pd.to_numeric(data_n[:,0])\n",
    "data_n.resize(6,100)\n",
    "data_n = np.transpose(data_n)"
   ]
  },
  {
   "cell_type": "markdown",
   "metadata": {},
   "source": [
    "Next, I can compute the mean and standard deviation for every sample with one command, by setting the axis = 0."
   ]
  },
  {
   "cell_type": "code",
   "execution_count": 5,
   "metadata": {},
   "outputs": [],
   "source": [
    "mu = np.nanmean(data_n, axis = 0)\n",
    "sigma = np.nanstd(data_n, axis = 0)"
   ]
  },
  {
   "cell_type": "markdown",
   "metadata": {},
   "source": [
    "Isn't that great? Instead of creating a `for` loop and calculating the mean for each column, I simply told the function which axis to use to calculate the mean for the entire array. Both mu and sigma have 6 entries, because I calculated the mean for each column (down the rows, or `axis = 0`). If I had chosen `axis=1`, mu and sigma would be 100 elements long, because I would have calculated the mean and standard deviation of each row.\n",
    "\n",
    "## Gaussian Log Likelihood Function\n",
    "\n",
    "In the last exercise, I showed you how you can simply use the scipy.stats library for calculating common distributions. However, I would like you to get you more accustomed with performing math in python, so **I want you to calculate your own Gaussian probability distribution.**\n",
    "\n",
    "<img src=\"http://www.gordus.org/public_images/gauss.png\" style=\"width: 300px;\"/>\n",
    "\n",
    "There will be three inputs for your function: `x, mu, sigma`, which will be your `data_n` (x), mean (mu), and standard deviation (sigma).\n",
    "\n",
    "To calculate the Gaussian function, we can again take advantage of using matrices, and negate the need to iteratively perform calculations with a `for` loop. A key detail here is when subtracting the mean (mu) from the columns of data_n. The rows of data_n are observations, and the columns are samples. I want to subtract each element of mu from its corresponding column of data_n, i.e. subtract `mu[0]` from `data_n[:,0]`, and `mu[1]` from `data[:,1]`, etc. \n",
    "\n",
    "Intuitively, you want to do this in a `for` loop. However, normally you could take advantage of linear algebra, and convert mu into a matrix with something called an identity matrix, and then subtract that from data_n, thus bypassing the need for a `for` loop.\n",
    "\n",
    "HOWEVER, Python is accostomed to this, so it does the math for you. If you give it an arithmetic problem between a matrix and a vector, it will look at the length of the vector, and see if the matrix has a dimension with matching length. If it does, it will perform the arithmetic along this dimension. SO, in the example below, when I perform x - mu, Python does all the linear algegra for me. SO CONVENIENT."
   ]
  },
  {
   "cell_type": "code",
   "execution_count": 6,
   "metadata": {},
   "outputs": [
    {
     "name": "stdout",
     "output_type": "stream",
     "text": [
      "[[-5. -5. -5. -5. -5.]\n",
      " [ 0.  0.  0.  0.  0.]\n",
      " [ 5.  5.  5.  5.  5.]]\n"
     ]
    }
   ],
   "source": [
    "# Example\n",
    "\n",
    "example_data = np.array([[1,2,3,4,5],[6,7,8,9,10],[11,12,13,14,15]])\n",
    "mu_test = np.mean(example_data, axis = 0)\n",
    "\n",
    "mean_centered_data = example_data - mu_test\n",
    "\n",
    "print(mean_centered_data)"
   ]
  },
  {
   "cell_type": "markdown",
   "metadata": {},
   "source": [
    "## Student Input Cell"
   ]
  },
  {
   "cell_type": "code",
   "execution_count": 7,
   "metadata": {},
   "outputs": [
    {
     "name": "stdout",
     "output_type": "stream",
     "text": [
      "0.0\n"
     ]
    }
   ],
   "source": [
    "def gauss_fun(x,mu,sigma):\n",
    "    \n",
    "    c = 1 / np.sqrt(2*np.pi*(sigma**2))\n",
    "    l = -(x-mu)**2 / (2*(sigma**2))\n",
    "    P = c*np.exp(l)\n",
    "    \n",
    "    return P\n",
    "\n",
    "# To confirm your function above is correct, compare it to the solution you get with scipy's function\n",
    "\n",
    "test = norm.pdf(data_n,mu,sigma)\n",
    "\n",
    "p_gauss = gauss_fun(data_n,mu,sigma)\n",
    "\n",
    "print(np.round(np.sum(np.abs(test-p_gauss))))"
   ]
  },
  {
   "cell_type": "markdown",
   "metadata": {},
   "source": [
    "Now that you have a function that calculates a Gaussian distribution, create another function that calculates the log-likelihood for that function:\n",
    "\n",
    "<img src=\"http://www.gordus.org/public_images/gaussian_log2.png\" style=\"width: 300px;\"/>\n"
   ]
  },
  {
   "cell_type": "markdown",
   "metadata": {},
   "source": [
    "## Student Input Cell"
   ]
  },
  {
   "cell_type": "code",
   "execution_count": 8,
   "metadata": {},
   "outputs": [],
   "source": [
    "# Gaussian logL\n",
    "    \n",
    "def gausslogl(x, mu, sigma):\n",
    "    \n",
    "    ln_gauss = np.log(gauss_fun(x, mu, sigma))\n",
    "    \n",
    "    logL = np.sum(ln_gauss, axis=0)\n",
    "    \n",
    "    return logL"
   ]
  },
  {
   "cell_type": "markdown",
   "metadata": {},
   "source": [
    "Now you can use your two functions to calculate the log-likelihood function for a Gaussian fit to your data."
   ]
  },
  {
   "cell_type": "markdown",
   "metadata": {},
   "source": [
    "## Student Input Cell"
   ]
  },
  {
   "cell_type": "code",
   "execution_count": 9,
   "metadata": {},
   "outputs": [
    {
     "data": {
      "text/plain": [
       "array([-58.21034174, -55.56109143, -71.39712661, -45.17889682,\n",
       "       -71.88530104, -72.97747604])"
      ]
     },
     "execution_count": 9,
     "metadata": {},
     "output_type": "execute_result"
    }
   ],
   "source": [
    "lp1 = gausslogl(data_n, mu, sigma)\n",
    "lp1"
   ]
  },
  {
   "cell_type": "markdown",
   "metadata": {},
   "source": [
    "## Double Gaussian Log Likelihood Function\n",
    "\n",
    "Next up is calculating the log likelihood function for the double Gaussian. The double gaussian likelihood function is simply the log of the sum of two Gaussians. HOWEVER, first we need to find the optimal values of w, mu1, mu2, sigma1, and sigma2. Unlike the single gaussian, where we can simply calculate the mean and standard deviation, the double Gaussian does not have analytical solutions for these values.\n",
    "\n",
    "<img src=\"http://www.gordus.org/public_images/double_gauss.png\" style=\"width: 500px;\"/>\n",
    "\n",
    "\n",
    "This is a common problem in physics. To get around this, you can have your computer find the best approximation for the highest likelihood function. Like we did in class, you want your computer to keep guessing the best parameter values, and choose the values that produce the largest log-likelihood estimate.\n",
    "\n",
    "Most libraries don't have maximize functions, but they DO have MINIMIZE functions (I will explain the reason for this in a future class). However, you can still use a MINIMIZE function to calculate a maximum: you simply optimize your parameters to find the MINIMUM NEGATIVE log-likelihood function.\n",
    "\n",
    "THEREFORE, the function below returns the NEGATIVE of the log-likelihood so that the minimum of this is actually the maximum for the log likelihood function.\n",
    "\n",
    "To have your Double Gaussian log likelihood function in the right format, I am going to start the function for you. **Remember, you can take advantage of the fact you have already written a function to calculate a single Gaussian.**\n",
    "\n",
    "**NOTE: I have put a negative sign on the return value to make sure this function returns the NEGATIVE log-likelihood funciton, since that is what we are going to MINIMIZE.**"
   ]
  },
  {
   "cell_type": "markdown",
   "metadata": {},
   "source": [
    "## Student Input Cell"
   ]
  },
  {
   "cell_type": "code",
   "execution_count": 10,
   "metadata": {},
   "outputs": [],
   "source": [
    "# Double Gaussian log likelihood function\n",
    "\n",
    "def dgausslogl(params,x):\n",
    "    \n",
    "    mu1 = params[0]\n",
    "    mu2 = params[1]\n",
    "    sigma1 = params[2]\n",
    "    sigma2 = params[3]\n",
    "    w = params[4]\n",
    "    \n",
    "    p1 = gauss_fun(x, mu1, sigma1)\n",
    "    p2 = gauss_fun(x, mu2, sigma2)\n",
    "    \n",
    "    ln_P = np.log(w*p1 + (1-w)*p2)\n",
    "    \n",
    "    logL = np.sum(ln_P, axis=0)\n",
    "    \n",
    "    return -logL\n"
   ]
  },
  {
   "cell_type": "markdown",
   "metadata": {},
   "source": [
    "Next, we will determine the most likely parameters for a double Gaussian for each sample, using the minimize operator. We will then use these parameters to calculate the log likelihood value for each sample. I have to initialize the minimize optimizer with some values, so I use slightly adjusted means and sigmas from the single Gaussians as reasonable guesses.\n",
    "\n",
    "**Notice that when I record the log likelihood for the double Gaussian, I am recording the negative value, since I know the function outputs the negative of the log likelihood function. By recording the negative of a negative, I am recording the positive log liklihood value.**\n",
    "\n",
    "tqdm: Optimizers can take a while to run, so to monitor this, I took advantage of the tqdm toolbar which you imported above.\n",
    "\n",
    "**Since we have not covered optimizers yet, I will calculate the most likely double Gaussian parameters for you, using your function from above.**\n",
    "\n",
    "## Double Gaussian parameter optimization"
   ]
  },
  {
   "cell_type": "code",
   "execution_count": 11,
   "metadata": {},
   "outputs": [
    {
     "data": {
      "application/vnd.jupyter.widget-view+json": {
       "model_id": "130fbe0c06a846e7951473c39968c00d",
       "version_major": 2,
       "version_minor": 0
      },
      "text/plain": [
       "HBox(children=(HTML(value=''), FloatProgress(value=0.0, max=6.0), HTML(value='')))"
      ]
     },
     "metadata": {},
     "output_type": "display_data"
    },
    {
     "name": "stdout",
     "output_type": "stream",
     "text": [
      "\n"
     ]
    },
    {
     "data": {
      "text/plain": [
       "array([-52.54778936, -44.19938435, -61.28927015, -32.43702073,\n",
       "       -69.0730055 , -63.89582389])"
      ]
     },
     "execution_count": 11,
     "metadata": {},
     "output_type": "execute_result"
    }
   ],
   "source": [
    "logL1 = gausslogl(data_n, mu, sigma)\n",
    "logL2 = np.zeros(np.shape(logL1))\n",
    "\n",
    "params_double = np.zeros((5,6))\n",
    "\n",
    "for m in tqdm(range(len(mu))):\n",
    "    params0 = [mu[m] - sigma[m], mu[m] + sigma[m], sigma[m], sigma[m], 0.6]\n",
    "    result = minimize(dgausslogl, params0, args=data_n[:,m], method='Nelder-Mead')\n",
    "    params_double[:,m] = result.x\n",
    "    logL2[m] = -dgausslogl(result.x,data_n[:,m])\n",
    "\n",
    "logL2"
   ]
  },
  {
   "cell_type": "markdown",
   "metadata": {},
   "source": [
    "## BIC Calculation\n",
    "\n",
    "Now that we've calculated the log likelihood functions for both the single and double Gaussian distributions, we're ready to calculate the BIC! Calculate the BIC for the data fit to a single Gaussian, and double Gaussian. Report which model is more likely for each sample.\n",
    "\n",
    "<img src=\"http://www.gordus.org/public_images/bic.png\" style=\"width: 300px;\"/>\n",
    "\n",
    "\n",
    "**Remember, the model that produces the LOWEST BIC is the one that is most likely, RELATIVE to the other models it is compared to.**"
   ]
  },
  {
   "cell_type": "code",
   "execution_count": 12,
   "metadata": {},
   "outputs": [
    {
     "name": "stdout",
     "output_type": "stream",
     "text": [
      "Control is more likely to come from a SINGLE GAUSSIAN distribution. (125.63 vs. 128.12)          \n",
      "   A    is more likely to come from a DOUBLE GAUSSIAN distribution. (120.33 vs. 111.42)          \n",
      "   B    is more likely to come from a DOUBLE GAUSSIAN distribution. (152.0 vs. 145.6)          \n",
      "   C    is more likely to come from a DOUBLE GAUSSIAN distribution. (99.57 vs. 87.9)          \n",
      "   D    is more likely to come from a SINGLE GAUSSIAN distribution. (152.98 vs. 161.17)          \n",
      "   E    is more likely to come from a DOUBLE GAUSSIAN distribution. (155.17 vs. 150.82)          \n"
     ]
    }
   ],
   "source": [
    "# BIC: Best model has LOWEST BIC\n",
    "    \n",
    "\n",
    "single = 2*np.log(100) - 2*lp1\n",
    "double = 5*np.log(100) - 2*logL2\n",
    "\n",
    "diff = double - single\n",
    "\n",
    "samples = ['Control', '   A   ', '   B   ', '   C   ', '   D   ', '   E   ']\n",
    "\n",
    "for i in range(6):\n",
    "    if diff[i] < 0:\n",
    "        dist = 'DOUBLE GAUSSIAN'\n",
    "    else:\n",
    "        dist = 'SINGLE GAUSSIAN'\n",
    "\n",
    "    print('{} is more likely to come from a {} distribution. ({} vs. {})\\\n",
    "          '.format(samples[i], dist, np.round(single[i], 2), np.round(double[i], 2)))"
   ]
  },
  {
   "cell_type": "code",
   "execution_count": null,
   "metadata": {},
   "outputs": [],
   "source": []
  }
 ],
 "metadata": {
  "kernelspec": {
   "display_name": "Python 3",
   "language": "python",
   "name": "python3"
  },
  "language_info": {
   "codemirror_mode": {
    "name": "ipython",
    "version": 3
   },
   "file_extension": ".py",
   "mimetype": "text/x-python",
   "name": "python",
   "nbconvert_exporter": "python",
   "pygments_lexer": "ipython3",
   "version": "3.7.1"
  }
 },
 "nbformat": 4,
 "nbformat_minor": 4
}
