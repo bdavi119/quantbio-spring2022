{
 "cells": [
  {
   "cell_type": "markdown",
   "metadata": {
    "id": "zPQBWHXl6ldH"
   },
   "source": [
    "# Quantitative Biology and Biophysics (AS.020.674/618)\tSpring 2022\n",
    "# Gordus Lab \n",
    "# April 29, 2022\n",
    "\n",
    "#  Enzyme Inhibition\n",
    "\n",
    "The goal of this lab is to plot and understand the kinetics of enzyme inhibition based on the data from Problem #3.\n",
    "\n",
    "## Libraries you will need"
   ]
  },
  {
   "cell_type": "code",
   "execution_count": 1,
   "metadata": {
    "executionInfo": {
     "elapsed": 867,
     "status": "ok",
     "timestamp": 1651244093876,
     "user": {
      "displayName": "Andrew Gordus",
      "userId": "15332279249794361134"
     },
     "user_tz": 240
    },
    "id": "noDWcH8Z6ldM"
   },
   "outputs": [],
   "source": [
    "import numpy as np\n",
    "import matplotlib.pyplot as plt\n",
    "from sklearn.linear_model import LinearRegression\n",
    "import pandas as pd"
   ]
  },
  {
   "cell_type": "markdown",
   "metadata": {
    "id": "FxvteKdvxE6o"
   },
   "source": [
    "## Regression in Python\n",
    "\n",
    "Any easy regression function to use in Python is `LinearRegression.fit(x,y)`\n",
    "\n",
    "To calculate the slope and y-intercept, execute the code in the following manner:\n",
    "\n",
    "`reg = LinearRegression().fit(x, y)`\n",
    "\n",
    "`slope = reg.coef_[0]`\n",
    "\n",
    "`y_intercept = reg.intercept_`\n",
    "\n",
    "An **IMPORTANT** detail:\n",
    "\n",
    "The x array **MUST** be in column vector for the linear regression function to work. Here is an example of how to promote a row vector into a column vector:"
   ]
  },
  {
   "cell_type": "code",
   "execution_count": 2,
   "metadata": {
    "id": "jHPMXlxdyKLh"
   },
   "outputs": [
    {
     "name": "stdout",
     "output_type": "stream",
     "text": [
      "x dimensions: (5,)\n",
      "x dimensions: (5, 1)\n"
     ]
    }
   ],
   "source": [
    "# x is a row vector\n",
    "x = np.array([1,2,3,4,5])\n",
    "print('x dimensions: '+str(x.shape))\n",
    "\n",
    "# Here I promote x to a COLUMN vector\n",
    "x = x[...,None]\n",
    "\n",
    "print('x dimensions: '+str(x.shape))\n",
    "\n"
   ]
  },
  {
   "cell_type": "markdown",
   "metadata": {
    "id": "fGPcE0tcC41I"
   },
   "source": [
    "## Question 3.1:\n",
    "You measure the initial velocities, v0, of an enzyme-catalyzed reaction at several different substrate concentrations. For each substrate concentration, you obtain v0 in the absence and presence of an inhibitor of the enzyme. All other reaction conditions are kept constant. \n",
    "\n",
    "\n",
    "Prepare a Lineweaver-Burk plot of both data sets at fit a linearized Michaelis-Menten model to the data. The plots should show the individual data points as well as an appropriate fit. Make sure to label the axes, including units, and report the fitting parameters that you obtain. \n",
    "## Student Input Cell"
   ]
  },
  {
   "cell_type": "code",
   "execution_count": 3,
   "metadata": {
    "id": "_ZHgFBkuz_HP"
   },
   "outputs": [
    {
     "name": "stdout",
     "output_type": "stream",
     "text": [
      "No inhibitor:\n",
      "y = [2.16200293] * x + [0.66812845]\n",
      "vmax: [1.49671818] μM/s, Km: [3.23590909] μM\n",
      "\n",
      "With inhibitor:\n",
      "y = [2.16281554] * x + [2.89061159]\n",
      "vmax: [0.34594755] μM/s, Km: [0.74822074] μM\n",
      "\n"
     ]
    },
    {
     "data": {
      "image/png": "[encoded data removed]",
      "text/plain": [
       "<Figure size 576x432 with 1 Axes>"
      ]
     },
     "metadata": {
      "needs_background": "light"
     },
     "output_type": "display_data"
    }
   ],
   "source": [
    "def toCol(x):\n",
    "    return x[...,None]\n",
    "\n",
    "data = np.array([[ 0.3  ,  0.127,  0.099],\n",
    "                 [ 1.   ,  0.353,  0.198],\n",
    "                 [ 3.   ,  0.72 ,  0.277],\n",
    "                 [10.   ,  1.132,  0.322],\n",
    "                 [30.   ,  1.353,  0.337]])\n",
    "\n",
    "data = 1/data\n",
    "\n",
    "S = toCol(data[:, 0])\n",
    "noI = toCol(data[:, 1])\n",
    "withI = toCol(data[:, 2])\n",
    "\n",
    "fig, ax = plt.subplots(figsize=(8,6))\n",
    "\n",
    "step = 0.05\n",
    "x = np.arange(-2, 4+step, step)\n",
    "condition = 'No inhibitor:'\n",
    "for cond in [noI, withI]:\n",
    "    reg = LinearRegression().fit(S, cond)\n",
    "    slope = reg.coef_[0]\n",
    "    yInt = reg.intercept_\n",
    "    \n",
    "    y = slope * x + yInt\n",
    "    ax.plot(x, y)\n",
    "    print(condition)\n",
    "    condition = 'With inhibitor:'\n",
    "    print('y = {} * x + {}'.format(slope, yInt))\n",
    "    print('vmax: {} \\u03BCM/s, Km: {} \\u03BCM\\n'.format(1/yInt, slope/yInt))\n",
    "    \n",
    "ax.scatter(S, noI)\n",
    "ax.scatter(S, withI)\n",
    "ax.axhline(y=0, color='r', linestyle='-', alpha=0.5)\n",
    "ax.axvline(x=0, color='r', linestyle='-', alpha=0.5)\n",
    "ax.set_title('Lineweaver-Burke Plot for Enzyme Inhibition')\n",
    "ax.set_xlabel('1/[S]')\n",
    "ax.set_ylabel('1/v\\u2080')\n",
    "ax.legend(['- inhibitor', '+ inhibitor'])\n",
    "\n",
    "plt.show()"
   ]
  },
  {
   "cell_type": "code",
   "execution_count": 4,
   "metadata": {},
   "outputs": [
    {
     "name": "stdout",
     "output_type": "stream",
     "text": [
      "0.002493604043239966 M\n"
     ]
    }
   ],
   "source": [
    "# Calculation for question 3.4\n",
    "Km = 3.23590909 * 10**-6\n",
    "Km_star = 0.74822074 * 10**-6\n",
    "i_constant = 750 * 10**-6\n",
    "i_conc = (Km/Km_star - 1) * i_constant\n",
    "print(str(i_conc), 'M')"
   ]
  },
  {
   "cell_type": "markdown",
   "metadata": {},
   "source": [
    "# \n",
    "# \n",
    "# \n",
    "# \n",
    "# \n",
    "# \n",
    "# Question II.6 on Exam 04"
   ]
  },
  {
   "cell_type": "code",
   "execution_count": 5,
   "metadata": {},
   "outputs": [
    {
     "name": "stdout",
     "output_type": "stream",
     "text": [
      "original: 1.592920353982301e-07\n",
      "a: 1.6901408450704225e-07\n",
      "b: 1.6e-07\n",
      "c: 2.88e-07\n"
     ]
    }
   ],
   "source": [
    "def multiply(a, b):\n",
    "    product = []\n",
    "    for x,y in zip(a,b):\n",
    "        product.append(x*y)\n",
    "    return product\n",
    "\n",
    "E = 10**-8\n",
    "S = 5 * 10**-3\n",
    "part = ['original', 'a', 'b', 'c']\n",
    "k = [3*(10**4), 1.5, 18]\n",
    "change = [[1, 1, 1], \n",
    "          [2, 1, 1], \n",
    "          [1, 0.5, 1], \n",
    "          [1, 1, 2]]\n",
    "for i in range(4):\n",
    "    [k1, kr, k2] = multiply(k, change[i])\n",
    "    Km = (kr + k2) / k1\n",
    "    vmax = k2 * E\n",
    "    \n",
    "    v0 = vmax / (1 + Km / S)\n",
    "    \n",
    "    print(part[i]+':', str(v0))"
   ]
  },
  {
   "cell_type": "code",
   "execution_count": 23,
   "metadata": {},
   "outputs": [
    {
     "name": "stdout",
     "output_type": "stream",
     "text": [
      "1000 3\n",
      "1011 3\n",
      "1101 3\n",
      "1110 3\n",
      "1111 2\n",
      "1112 3\n",
      "1121 3\n",
      "1211 3\n",
      "1222 3\n",
      "2111 3\n",
      "2122 3\n",
      "2212 3\n",
      "2221 3\n",
      "2222 2\n",
      "2223 3\n",
      "2232 3\n",
      "2322 3\n",
      "2333 3\n",
      "3222 3\n",
      "3233 3\n",
      "3323 3\n",
      "3332 3\n",
      "3333 2\n",
      "3334 3\n",
      "3343 3\n",
      "3433 3\n",
      "3444 3\n",
      "4333 3\n",
      "4344 3\n",
      "4434 3\n",
      "4443 3\n",
      "4444 2\n",
      "4445 3\n",
      "4454 3\n",
      "4544 3\n",
      "4555 3\n",
      "5444 3\n",
      "5455 3\n",
      "5545 3\n",
      "5554 3\n",
      "5555 2\n",
      "5556 3\n",
      "5565 3\n",
      "5655 3\n",
      "5666 3\n",
      "6555 3\n",
      "6566 3\n",
      "6656 3\n",
      "6665 3\n",
      "6666 2\n",
      "6667 3\n",
      "6676 3\n",
      "6766 3\n",
      "6777 3\n",
      "7666 3\n",
      "7677 3\n",
      "7767 3\n",
      "7776 3\n",
      "7777 2\n",
      "7778 3\n",
      "7787 3\n",
      "7877 3\n",
      "7888 3\n",
      "8777 3\n",
      "8788 3\n",
      "8878 3\n",
      "8887 3\n",
      "8888 2\n",
      "8889 3\n",
      "8898 3\n",
      "8988 3\n",
      "8999 3\n",
      "9888 3\n",
      "9899 3\n",
      "9989 3\n",
      "9998 3\n",
      "9999 2\n"
     ]
    }
   ],
   "source": [
    "def listToNum(l):\n",
    "    return int(\"\".join([str(digit) for digit in l]))\n",
    "\n",
    "def iterKaprekar(n):\n",
    "    last_num = 0\n",
    "    i = 0\n",
    "    while n != last_num:\n",
    "        n_list = [int(x) for x in str(n)]\n",
    "        n_list.sort()\n",
    "        asc = listToNum(n_list)\n",
    "        n_list.sort(reverse=True)\n",
    "        des = listToNum(n_list)\n",
    "\n",
    "        new_n = des - asc\n",
    "        last_num = n\n",
    "        n = new_n\n",
    "        i += 1\n",
    "    return (new_n, i)\n",
    "        \n",
    "for i in range(1000, 10000):\n",
    "    (final, iters) = iterKaprekar(i)\n",
    "    if final != 6174:\n",
    "        print(i, iters)"
   ]
  },
  {
   "cell_type": "code",
   "execution_count": null,
   "metadata": {},
   "outputs": [],
   "source": []
  }
 ],
 "metadata": {
  "colab": {
   "collapsed_sections": [],
   "name": "Quant_Lab_20220429.ipynb",
   "provenance": [
    {
     "file_id": "1O2X_aEhBh9tAQ8e-t9F4piPF9ydgy7Dk",
     "timestamp": 1651243942688
    },
    {
     "file_id": "17NxN90ajqhJ9FF5EHZaQE_bGxtmwz0Xw",
     "timestamp": 1651228982237
    },
    {
     "file_id": "1HkqE3axZOF5wMgDoLQ1eIgYnzDUrX4PA",
     "timestamp": 1650570307341
    },
    {
     "file_id": "1iRy_Pr1DFxIpi1LDUdzlt3obClVfjL3F",
     "timestamp": 1650564221953
    },
    {
     "file_id": "1aBPusJBmxPBQo6bNZj687G77L8WvxJbM",
     "timestamp": 1650022919872
    },
    {
     "file_id": "1FI-b5vpOa0Zq23lo6UZV4CA6Xp86WOEh",
     "timestamp": 1649358492125
    }
   ]
  },
  "kernelspec": {
   "display_name": "Python 3",
   "language": "python",
   "name": "python3"
  },
  "language_info": {
   "codemirror_mode": {
    "name": "ipython",
    "version": 3
   },
   "file_extension": ".py",
   "mimetype": "text/x-python",
   "name": "python",
   "nbconvert_exporter": "python",
   "pygments_lexer": "ipython3",
   "version": "3.7.1"
  }
 },
 "nbformat": 4,
 "nbformat_minor": 1
}
